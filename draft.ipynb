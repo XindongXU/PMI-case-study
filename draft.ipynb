{
 "cells": [
  {
   "cell_type": "code",
   "execution_count": 1,
   "id": "576b5820",
   "metadata": {},
   "outputs": [],
   "source": [
    "import nltk"
   ]
  },
  {
   "cell_type": "code",
   "execution_count": 3,
   "id": "181f114d",
   "metadata": {},
   "outputs": [],
   "source": [
    "import spacy\n",
    "nlp = spacy.load('en_core_web_sm')"
   ]
  },
  {
   "cell_type": "code",
   "execution_count": 7,
   "id": "1fbed24e",
   "metadata": {},
   "outputs": [
    {
     "data": {
      "text/plain": [
       "I went to Paris. And where I met my old friend Jack from uni"
      ]
     },
     "execution_count": 7,
     "metadata": {},
     "output_type": "execute_result"
    }
   ],
   "source": [
    "doc = nlp('I went to Paris. And where I met my old friend Jack from uni')\n",
    "doc"
   ]
  },
  {
   "cell_type": "code",
   "execution_count": 8,
   "id": "9fe007da",
   "metadata": {},
   "outputs": [],
   "source": [
    "from collections import OrderedDict"
   ]
  },
  {
   "cell_type": "code",
   "execution_count": 10,
   "id": "ff1082e2",
   "metadata": {},
   "outputs": [],
   "source": [
    "voc = OrderedDict()"
   ]
  },
  {
   "cell_type": "code",
   "execution_count": 11,
   "id": "6b1a94f3",
   "metadata": {},
   "outputs": [],
   "source": [
    "voc['apple'] = 1"
   ]
  },
  {
   "cell_type": "code",
   "execution_count": 13,
   "id": "1cb5470f",
   "metadata": {},
   "outputs": [
    {
     "data": {
      "text/plain": [
       "1"
      ]
     },
     "execution_count": 13,
     "metadata": {},
     "output_type": "execute_result"
    }
   ],
   "source": [
    "voc['apple']"
   ]
  },
  {
   "cell_type": "code",
   "execution_count": null,
   "id": "57479793",
   "metadata": {},
   "outputs": [],
   "source": []
  }
 ],
 "metadata": {
  "kernelspec": {
   "display_name": "Python 3 (ipykernel)",
   "language": "python",
   "name": "python3"
  },
  "language_info": {
   "codemirror_mode": {
    "name": "ipython",
    "version": 3
   },
   "file_extension": ".py",
   "mimetype": "text/x-python",
   "name": "python",
   "nbconvert_exporter": "python",
   "pygments_lexer": "ipython3",
   "version": "3.8.5"
  }
 },
 "nbformat": 4,
 "nbformat_minor": 5
}
